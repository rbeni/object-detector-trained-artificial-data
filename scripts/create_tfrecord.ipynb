{
 "cells": [
  {
   "cell_type": "code",
   "execution_count": 1,
   "metadata": {},
   "outputs": [
    {
     "name": "stderr",
     "output_type": "stream",
     "text": [
      "2023-10-22 14:37:54.312708: I tensorflow/core/util/port.cc:110] oneDNN custom operations are on. You may see slightly different numerical results due to floating-point round-off errors from different computation orders. To turn them off, set the environment variable `TF_ENABLE_ONEDNN_OPTS=0`.\n",
      "2023-10-22 14:37:54.351025: I tensorflow/core/platform/cpu_feature_guard.cc:182] This TensorFlow binary is optimized to use available CPU instructions in performance-critical operations.\n",
      "To enable the following instructions: AVX2 AVX512F AVX512_VNNI FMA, in other operations, rebuild TensorFlow with the appropriate compiler flags.\n",
      "2023-10-22 14:37:55.147593: W tensorflow/compiler/tf2tensorrt/utils/py_utils.cc:38] TF-TRT Warning: Could not find TensorRT\n"
     ]
    }
   ],
   "source": [
    "import tensorflow as tf\n",
    "from object_detection.utils import dataset_util\n",
    "import os\n",
    "import numpy as np"
   ]
  },
  {
   "cell_type": "code",
   "execution_count": 2,
   "metadata": {},
   "outputs": [],
   "source": [
    "def convert_label(label, shape=(500, 500)):\n",
    "    # Parse the label data from the txt file\n",
    "    _, x, y, w, h = label.strip().split()\n",
    "    x, y, w, h = float(x)*shape[0], float(y)*shape[1], float(w)*shape[0], float(h)*shape[1]\n",
    "    # Convert the label data to the format expected by the tf.record file\n",
    "    xmin = x - w/2\n",
    "    ymin = y - h/2\n",
    "    xmax = x + w/2\n",
    "    ymax = y + h/2\n",
    "    label = np.array([xmin, ymin, xmax, ymax], dtype=np.float32)\n",
    "    return label"
   ]
  },
  {
   "cell_type": "code",
   "execution_count": 12,
   "metadata": {},
   "outputs": [],
   "source": [
    "path = '../datasets/version1/test/'\n",
    "output_file = os.path.join(path, 'dataset.tfrecord')"
   ]
  },
  {
   "cell_type": "code",
   "execution_count": 13,
   "metadata": {},
   "outputs": [],
   "source": [
    "images_path = os.path.join(path, 'images')\n",
    "labels_path = os.path.join(path, 'labels')"
   ]
  },
  {
   "cell_type": "code",
   "execution_count": 14,
   "metadata": {},
   "outputs": [],
   "source": [
    "images_filepaths = os.listdir(images_path)\n",
    "labels_filepaths = os.listdir(labels_path)\n",
    "\n",
    "images_filepaths.sort()\n",
    "labels_filepaths.sort()\n"
   ]
  },
  {
   "cell_type": "code",
   "execution_count": 15,
   "metadata": {},
   "outputs": [],
   "source": [
    "with tf.io.TFRecordWriter(output_file) as writer:\n",
    "    \n",
    "    for label_filepath, image_filepath in zip(labels_filepaths, images_filepaths):\n",
    "\n",
    "        with open(os.path.join(labels_path, label_filepath), 'r') as f:\n",
    "            label_data = f.read()\n",
    "\n",
    "        with tf.io.gfile.GFile(os.path.join(images_path, image_filepath), 'rb') as f:\n",
    "            image_data = f.read()\n",
    "\n",
    "        xmin, ymin, xmax, ymax = convert_label(label_data)\n",
    "        \n",
    "        example = tf.train.Example(features=tf.train.Features(feature={\n",
    "            'image/encoded': tf.train.Feature(bytes_list=tf.train.BytesList(value=[image_data])),\n",
    "            'image/height': tf.train.Feature(int64_list=tf.train.Int64List(value=[500])),#dataset_util.int64_feature(500),\n",
    "            'image/width': tf.train.Feature(int64_list=tf.train.Int64List(value=[500])),#dataset_util.int64_feature(500),\n",
    "            'image/format': tf.train.Feature(bytes_list=tf.train.BytesList(value=[b'png'])),\n",
    "            'image/object/bbox/xmin': tf.train.Feature(float_list=tf.train.FloatList(value=[xmin])),\n",
    "            'image/object/bbox/ymin': tf.train.Feature(float_list=tf.train.FloatList(value=[ymin])),\n",
    "            'image/object/bbox/xmax': tf.train.Feature(float_list=tf.train.FloatList(value=[xmax])),\n",
    "            'image/object/bbox/ymax': tf.train.Feature(float_list=tf.train.FloatList(value=[ymax])),\n",
    "            'image/object/class/text': tf.train.Feature(bytes_list=tf.train.BytesList(value=[b'usb_cable'])),\n",
    "            'image/object/class/label': tf.train.Feature(int64_list=tf.train.Int64List(value=[0])),\n",
    "            \n",
    "        }))\n",
    "\n",
    "        writer.write(example.SerializeToString())"
   ]
  },
  {
   "cell_type": "code",
   "execution_count": null,
   "metadata": {},
   "outputs": [],
   "source": []
  }
 ],
 "metadata": {
  "kernelspec": {
   "display_name": "tf",
   "language": "python",
   "name": "python3"
  },
  "language_info": {
   "codemirror_mode": {
    "name": "ipython",
    "version": 3
   },
   "file_extension": ".py",
   "mimetype": "text/x-python",
   "name": "python",
   "nbconvert_exporter": "python",
   "pygments_lexer": "ipython3",
   "version": "3.8.0"
  }
 },
 "nbformat": 4,
 "nbformat_minor": 2
}
