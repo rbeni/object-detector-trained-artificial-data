{
 "cells": [
  {
   "cell_type": "code",
   "execution_count": 1,
   "metadata": {},
   "outputs": [],
   "source": [
    "import os\n",
    "import glob\n",
    "import numpy as np\n",
    "from shutil import copyfile"
   ]
  },
  {
   "cell_type": "code",
   "execution_count": 2,
   "metadata": {},
   "outputs": [],
   "source": [
    "images_paths = glob.glob('./../data_v2/images/Image*.png')\n",
    "images_paths.sort()\n"
   ]
  },
  {
   "cell_type": "code",
   "execution_count": 4,
   "metadata": {},
   "outputs": [],
   "source": [
    "dataset_sizes = [500, 1000, 2000, 5000, 10000]"
   ]
  },
  {
   "cell_type": "code",
   "execution_count": 11,
   "metadata": {},
   "outputs": [
    {
     "name": "stdout",
     "output_type": "stream",
     "text": [
      "500 400 50 50\n",
      "400 50 50\n",
      "1000 800 100 100\n",
      "800 100 100\n",
      "2000 1600 200 200\n",
      "1600 200 200\n",
      "5000 4000 500 500\n",
      "4000 500 500\n",
      "10000 8000 1000 1000\n",
      "8000 1000 1000\n"
     ]
    }
   ],
   "source": [
    "for dataset_size in dataset_sizes:\n",
    "\n",
    "    train = int(np.ceil(dataset_size*.8))\n",
    "    val = int(dataset_size*.1)\n",
    "    test = int(dataset_size*.1)\n",
    "    print(dataset_size, train, val, test)\n",
    "\n",
    "    training_images_paths = images_paths[:train]\n",
    "    val_images_paths = images_paths[train:train+val]\n",
    "    test_images_paths = images_paths[train+val:train+val+test]\n",
    "\n",
    "    print(len(training_images_paths), len(val_images_paths), len(test_images_paths))\n",
    "\n",
    "    # Make folders\n",
    "    if not os.path.isdir(f'../datasets/size{str(dataset_size)}'):\n",
    "        os.makedirs(f'../datasets/size{str(dataset_size)}/train/images')\n",
    "        os.makedirs(f'../datasets/size{str(dataset_size)}/train/labels')\n",
    "\n",
    "        os.makedirs(f'../datasets/size{str(dataset_size)}/valid/images')\n",
    "        os.makedirs(f'../datasets/size{str(dataset_size)}/valid/labels')\n",
    "\n",
    "        os.makedirs(f'../datasets/size{str(dataset_size)}/test/images')\n",
    "        os.makedirs(f'../datasets/size{str(dataset_size)}/test/labels')\n",
    "\n",
    "    for path in training_images_paths:\n",
    "        # Copy image\n",
    "        src = path\n",
    "        dst = f'../datasets/size{str(dataset_size)}/train/images/' + src.split('/')[-1]\n",
    "        # print(src, dst)\n",
    "        copyfile(src, dst)\n",
    "\n",
    "        # Copy label\n",
    "        src = path.replace('.png', '.txt').replace('images', 'labels')\n",
    "        dst = f'../datasets/size{str(dataset_size)}/train/labels/' + src.split('/')[-1]\n",
    "        # print(src, dst)\n",
    "        copyfile(src, dst)\n",
    "\n",
    "    for path in val_images_paths:\n",
    "        # Copy image\n",
    "        src = path\n",
    "        dst = f'../datasets/size{str(dataset_size)}/valid/images/' + src.split('/')[-1]\n",
    "        # print(src, dst)\n",
    "        copyfile(src, dst)\n",
    "\n",
    "        # Copy label\n",
    "        src = path.replace('.png', '.txt').replace('images', 'labels')\n",
    "        dst = f'../datasets/size{str(dataset_size)}/valid/labels/' + src.split('/')[-1]\n",
    "        # print(src, dst)\n",
    "        copyfile(src, dst)\n",
    "\n",
    "    for path in test_images_paths:\n",
    "        # Copy image\n",
    "        src = path\n",
    "        dst = f'../datasets/size{str(dataset_size)}/test/images/' + src.split('/')[-1]\n",
    "        # print(src, dst)\n",
    "        copyfile(src, dst)\n",
    "\n",
    "        # Copy label\n",
    "        src = path.replace('.png', '.txt').replace('images', 'labels')\n",
    "        dst = f'../datasets/size{str(dataset_size)}/test/labels/' + src.split('/')[-1]\n",
    "        # print(src, dst)\n",
    "        copyfile(src, dst)\n",
    "\n",
    "        \n",
    "    \n",
    "\n"
   ]
  },
  {
   "cell_type": "code",
   "execution_count": 3,
   "metadata": {},
   "outputs": [
    {
     "data": {
      "text/plain": [
       "(8000, 1000, 1000)"
      ]
     },
     "execution_count": 3,
     "metadata": {},
     "output_type": "execute_result"
    }
   ],
   "source": [
    "total = len(images_paths)\n",
    "\n",
    "train = int(np.ceil(total*.8))\n",
    "val = int(total*.1)\n",
    "test = int(total*.1)\n",
    "\n",
    "train, val, test"
   ]
  },
  {
   "cell_type": "code",
   "execution_count": 8,
   "metadata": {},
   "outputs": [
    {
     "data": {
      "text/plain": [
       "5587"
      ]
     },
     "execution_count": 8,
     "metadata": {},
     "output_type": "execute_result"
    }
   ],
   "source": [
    "train+val+test"
   ]
  },
  {
   "cell_type": "code",
   "execution_count": 9,
   "metadata": {},
   "outputs": [
    {
     "data": {
      "text/plain": [
       "4471"
      ]
     },
     "execution_count": 9,
     "metadata": {},
     "output_type": "execute_result"
    }
   ],
   "source": [
    "training_images_paths = images_paths[:train]\n",
    "len(training_images_paths)"
   ]
  },
  {
   "cell_type": "code",
   "execution_count": 10,
   "metadata": {},
   "outputs": [
    {
     "data": {
      "text/plain": [
       "558"
      ]
     },
     "execution_count": 10,
     "metadata": {},
     "output_type": "execute_result"
    }
   ],
   "source": [
    "val_images_paths = images_paths[train:train+val]\n",
    "len(val_images_paths)"
   ]
  },
  {
   "cell_type": "code",
   "execution_count": 11,
   "metadata": {},
   "outputs": [
    {
     "data": {
      "text/plain": [
       "558"
      ]
     },
     "execution_count": 11,
     "metadata": {},
     "output_type": "execute_result"
    }
   ],
   "source": [
    "test_images_paths = images_paths[train+val:train+val+test]\n",
    "len(test_images_paths)"
   ]
  },
  {
   "cell_type": "code",
   "execution_count": 12,
   "metadata": {},
   "outputs": [
    {
     "data": {
      "text/plain": [
       "('./../data/images/Image5033.png', './../data/images/Image5034.png')"
      ]
     },
     "execution_count": 12,
     "metadata": {},
     "output_type": "execute_result"
    }
   ],
   "source": [
    "val_images_paths[-1], test_images_paths[0]"
   ]
  },
  {
   "cell_type": "code",
   "execution_count": 15,
   "metadata": {},
   "outputs": [],
   "source": [
    "# os.makedirs('../datasets/version1/train/images')\n",
    "# os.makedirs('../datasets/version1/train/labels')\n",
    "\n",
    "os.makedirs('../datasets/version1/valid/images')\n",
    "os.makedirs('../datasets/version1/valid/labels')\n",
    "\n",
    "os.makedirs('../datasets/version1/test/images')\n",
    "os.makedirs('../datasets/version1/test/labels')\n"
   ]
  },
  {
   "cell_type": "code",
   "execution_count": 21,
   "metadata": {},
   "outputs": [],
   "source": [
    "for path in training_images_paths:\n",
    "\n",
    "    # Copy image\n",
    "    src = path\n",
    "    dst = '../datasets/version1/train/images/' + src.split('/')[-1]\n",
    "    # print(src, dst)\n",
    "    copyfile(src, dst)\n",
    "\n",
    "    # Copy label\n",
    "    src = path.replace('.png', '.txt').replace('images', 'labels')\n",
    "    dst = '../datasets/version1/train/labels/' + src.split('/')[-1]\n",
    "    # print(src, dst)\n",
    "    copyfile(src, dst)"
   ]
  },
  {
   "cell_type": "code",
   "execution_count": 22,
   "metadata": {},
   "outputs": [],
   "source": [
    "for path in val_images_paths:\n",
    "\n",
    "    # Copy image\n",
    "    src = path\n",
    "    dst = '../datasets/version1/valid/images/' + src.split('/')[-1]\n",
    "    # print(src, dst)\n",
    "    copyfile(src, dst)\n",
    "\n",
    "    # Copy label\n",
    "    src = path.replace('.png', '.txt').replace('images', 'labels')\n",
    "    dst = '../datasets/version1/valid/labels/' + src.split('/')[-1]\n",
    "    # print(src, dst)\n",
    "    copyfile(src, dst)"
   ]
  },
  {
   "cell_type": "code",
   "execution_count": 23,
   "metadata": {},
   "outputs": [],
   "source": [
    "for path in test_images_paths:\n",
    "\n",
    "    # Copy image\n",
    "    src = path\n",
    "    dst = '../datasets/version1/test/images/' + src.split('/')[-1]\n",
    "    # print(src, dst)\n",
    "    copyfile(src, dst)\n",
    "\n",
    "    # Copy label\n",
    "    src = path.replace('.png', '.txt').replace('images', 'labels')\n",
    "    dst = '../datasets/version1/test/labels/' + src.split('/')[-1]\n",
    "    # print(src, dst)\n",
    "    copyfile(src, dst)"
   ]
  },
  {
   "cell_type": "code",
   "execution_count": null,
   "metadata": {},
   "outputs": [],
   "source": []
  }
 ],
 "metadata": {
  "kernelspec": {
   "display_name": "cv",
   "language": "python",
   "name": "python3"
  },
  "language_info": {
   "codemirror_mode": {
    "name": "ipython",
    "version": 3
   },
   "file_extension": ".py",
   "mimetype": "text/x-python",
   "name": "python",
   "nbconvert_exporter": "python",
   "pygments_lexer": "ipython3",
   "version": "3.11.5"
  }
 },
 "nbformat": 4,
 "nbformat_minor": 2
}
